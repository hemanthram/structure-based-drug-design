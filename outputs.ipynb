{
 "cells": [
  {
   "cell_type": "code",
   "execution_count": 1,
   "id": "aae2d4e8",
   "metadata": {},
   "outputs": [],
   "source": [
    "from protein_ligand import PDBProtein, parse_sdf_file\n",
    "from reconstruct import reconstruct_from_generated\n",
    "import numpy as np\n",
    "import scipy.linalg\n",
    "from PIL import Image, ImageDraw, ImageFont\n",
    "import rdkit\n",
    "import sascorer\n",
    "from pymol import cmd\n",
    "\n",
    "from rdkit import Chem, DataStructs\n",
    "from rdkit.Chem import SDWriter, Descriptors, Draw, QED, rdFingerprintGenerator\n",
    "import networkx as nx\n",
    "import seaborn as sns\n",
    "import matplotlib.pyplot as plt\n",
    "import pickle\n",
    "import pandas as pd\n",
    "import shutil\n",
    "from tqdm import tqdm"
   ]
  },
  {
   "cell_type": "code",
   "execution_count": 77,
   "id": "145d6d34",
   "metadata": {},
   "outputs": [],
   "source": [
    "lig_path = './outputs/mxQED_planar_1/106.sdf'"
   ]
  },
  {
   "cell_type": "code",
   "execution_count": 78,
   "id": "3327fc79",
   "metadata": {},
   "outputs": [],
   "source": [
    "lig_dict = parse_sdf_file(lig_path)"
   ]
  },
  {
   "cell_type": "code",
   "execution_count": 79,
   "id": "db66b0b2",
   "metadata": {},
   "outputs": [],
   "source": [
    "mol = next(iter(Chem.SDMolSupplier(lig_path)))"
   ]
  },
  {
   "cell_type": "code",
   "execution_count": 80,
   "id": "1b3749f3",
   "metadata": {
    "scrolled": true
   },
   "outputs": [
    {
     "name": "stdout",
     "output_type": "stream",
     "text": [
      "False\n",
      "True\n",
      "True\n",
      "True\n",
      "True\n",
      "False\n",
      "False\n",
      "True\n",
      "True\n",
      "False\n",
      "False\n",
      "False\n",
      "False\n",
      "False\n",
      "False\n",
      "False\n",
      "False\n",
      "False\n",
      "False\n",
      "False\n",
      "SINGLE\n",
      "AROMATIC\n",
      "AROMATIC\n",
      "AROMATIC\n",
      "SINGLE\n",
      "SINGLE\n",
      "AROMATIC\n",
      "AROMATIC\n",
      "AROMATIC\n",
      "SINGLE\n",
      "SINGLE\n",
      "SINGLE\n",
      "SINGLE\n",
      "SINGLE\n",
      "SINGLE\n",
      "SINGLE\n",
      "SINGLE\n",
      "SINGLE\n",
      "SINGLE\n",
      "SINGLE\n",
      "SINGLE\n",
      "SINGLE\n",
      "SINGLE\n"
     ]
    }
   ],
   "source": [
    "for atom in mol.GetAtoms():\n",
    "    print(atom.IsInRingSize(6))\n",
    "\n",
    "for bond in mol.GetBonds():\n",
    "    print(bond.GetBondType())"
   ]
  },
  {
   "cell_type": "code",
   "execution_count": 6,
   "id": "e211767b",
   "metadata": {},
   "outputs": [
    {
     "data": {
      "text/plain": [
       "{'element': array([6, 6, 6, 6, 6, 6, 6, 6, 6, 6, 6, 6, 6, 6, 7]),\n",
       " 'pos': array([[ 18.301 ,  10.829 , -10.884 ],\n",
       "        [ 16.97  ,  10.501 , -10.585 ],\n",
       "        [ 15.79  ,  11.208 , -11.152 ],\n",
       "        [ 16.5527,  12.4894, -12.1588],\n",
       "        [ 18.5451,  12.2324, -11.9823],\n",
       "        [ 17.6815,  12.886 , -12.7079],\n",
       "        [ 19.5213,  10.1578, -10.4569],\n",
       "        [ 20.7722,  10.5239, -10.5484],\n",
       "        [ 21.779 ,  11.4087, -11.5552],\n",
       "        [ 21.5044,  12.8731, -12.562 ],\n",
       "        [ 20.8332,  13.7273, -13.4772],\n",
       "        [ 19.8569,  14.49  , -13.8738],\n",
       "        [ 21.0773,  14.7341, -14.2704],\n",
       "        [ 22.4807,  14.0934, -13.5687],\n",
       "        [ 21.962 ,  10.0053, -10.3959]], dtype=float32),\n",
       " 'bond_index': array([[ 0,  0,  0,  1,  1,  2,  2,  3,  3,  4,  4,  5,  5,  6,  6,  7,\n",
       "          7,  7,  8,  8,  9,  9, 10, 10, 10, 10, 11, 12, 13, 14],\n",
       "        [ 1,  4,  6,  0,  2,  1,  3,  2,  5,  0,  5,  3,  4,  0,  7,  6,\n",
       "          8, 14,  7,  9,  8, 10,  9, 11, 12, 13, 10, 10, 10,  7]]),\n",
       " 'bond_type': array([2, 1, 1, 2, 1, 1, 2, 2, 1, 1, 2, 1, 2, 1, 1, 1, 1, 2, 1, 1, 1, 1,\n",
       "        1, 1, 1, 1, 1, 1, 1, 2]),\n",
       " 'center_of_mass': array([ 19.601307,  12.120526, -11.994194], dtype=float32),\n",
       " 'atom_feature': array([[0, 0, 1, 1, 1, 0, 0, 0],\n",
       "        [0, 0, 1, 0, 1, 0, 0, 0],\n",
       "        [0, 0, 1, 0, 1, 0, 0, 0],\n",
       "        [0, 0, 1, 0, 1, 0, 0, 0],\n",
       "        [0, 0, 1, 0, 1, 0, 0, 0],\n",
       "        [0, 0, 1, 0, 1, 0, 0, 0],\n",
       "        [0, 0, 0, 1, 0, 0, 0, 0],\n",
       "        [0, 0, 0, 0, 0, 0, 0, 0],\n",
       "        [0, 0, 0, 1, 0, 0, 0, 0],\n",
       "        [0, 0, 0, 1, 0, 0, 0, 0],\n",
       "        [0, 0, 0, 1, 1, 0, 0, 0],\n",
       "        [0, 0, 0, 0, 1, 0, 0, 0],\n",
       "        [0, 0, 0, 0, 1, 0, 0, 0],\n",
       "        [0, 0, 0, 0, 1, 0, 0, 0],\n",
       "        [0, 1, 0, 0, 0, 0, 0, 0]])}"
      ]
     },
     "execution_count": 6,
     "metadata": {},
     "output_type": "execute_result"
    }
   ],
   "source": [
    "lig_dict"
   ]
  },
  {
   "cell_type": "code",
   "execution_count": 7,
   "id": "3410f446",
   "metadata": {},
   "outputs": [],
   "source": [
    "def find_projection(a,b,c,x,y,z):\n",
    "    \n",
    "    m = np.zeros((2,2))\n",
    "    m[0][0] = 1+a**2\n",
    "    m[0][1] = a*b\n",
    "    m[1][0] = a*b\n",
    "    m[1][1] = 1+b**2\n",
    "    \n",
    "    B = np.zeros((2,1))\n",
    "    B[0][0] = a*z+x-a*c\n",
    "    B[1][0] = b*z+y-b*c\n",
    "    \n",
    "    minv = np.linalg.inv(m)\n",
    "    res = np.matmul(minv,B)\n",
    "    \n",
    "    return np.array([res[0][0], res[1][0], a*res[0][0]+b*res[1][0]+c])\n",
    "    \n",
    "def planarize_coords(pos):\n",
    "    \n",
    "    center = np.mean(pos, axis=0)\n",
    "    A = np.c_[pos[:,0], pos[:,1], np.ones(pos.shape[0])]\n",
    "    C,_,_,_ = scipy.linalg.lstsq(A, pos[:,2])\n",
    "    # print(C[0]*center[0] + C[1]*center[1] - center[2] + C[2])\n",
    "    \n",
    "    rad = np.mean(np.sum((pos-center)**2,axis=1)**0.5)\n",
    "    # print(rad)\n",
    "    \n",
    "    projections = []\n",
    "    for p in pos:\n",
    "        proj = find_projection(C[0],C[1],C[2],p[0],p[1],p[2])\n",
    "        projections.append(proj)\n",
    "    projections = np.array(projections)\n",
    "        \n",
    "    mag = (np.sum((projections-center)**2,axis=1)**0.5).reshape(pos.shape[0],-1)\n",
    "    vec = ((projections-center)/mag)*rad\n",
    "    fin = vec+center\n",
    "    # print(pos)\n",
    "    # print(fin)\n",
    "    return fin"
   ]
  },
  {
   "cell_type": "code",
   "execution_count": 19,
   "id": "827b716f",
   "metadata": {},
   "outputs": [
    {
     "name": "stdout",
     "output_type": "stream",
     "text": [
      "AROMATIC\n",
      "AROMATIC\n",
      "AROMATIC\n",
      "AROMATIC\n",
      "AROMATIC\n",
      "AROMATIC\n",
      "AROMATIC\n",
      "AROMATIC\n",
      "AROMATIC\n",
      "AROMATIC\n",
      "AROMATIC\n",
      "SINGLE\n",
      "SINGLE\n",
      "SINGLE\n",
      "SINGLE\n",
      "SINGLE\n",
      "SINGLE\n"
     ]
    }
   ],
   "source": [
    "for bond in plan.GetBonds():\n",
    "    print(bond.GetBondType())"
   ]
  },
  {
   "cell_type": "code",
   "execution_count": 2,
   "id": "94241f2b",
   "metadata": {},
   "outputs": [
    {
     "name": "stdout",
     "output_type": "stream",
     "text": [
      " PyMOL not running, entering library mode (experimental)\n"
     ]
    }
   ],
   "source": [
    "for i in range(1000):\n",
    "    try:\n",
    "        cmd.reinitialize()\n",
    "        cmd.load(\"outputs/mxQED_planar_1/\"+str(i)+\".sdf\")\n",
    "        cmd.png(\"outputs/mxQED_planar_1/\"+str(i)+\"_.png\")\n",
    "    except:\n",
    "        pass"
   ]
  },
  {
   "cell_type": "code",
   "execution_count": 3,
   "id": "d315bda2",
   "metadata": {},
   "outputs": [],
   "source": [
    "for i in range(1000):\n",
    "    try:\n",
    "        cmd.reinitialize()\n",
    "        cmd.load(\"outputs/planar_planar_1/\"+str(i)+\".sdf\")\n",
    "        cmd.png(\"outputs/planar_planar_1/\"+str(i)+\"_.png\")\n",
    "    except:\n",
    "        pass"
   ]
  },
  {
   "cell_type": "code",
   "execution_count": 2,
   "id": "9ba95374",
   "metadata": {},
   "outputs": [],
   "source": [
    "data_props = pickle.load(open(\"data_props.p\", \"rb\"))\n",
    "data_path = '../../data/crossdocked/crossdocked_pocket10/crossdocked_pocket10/'\n",
    "rdkit_gen = rdFingerprintGenerator.GetRDKitFPGenerator(maxPath=7)"
   ]
  },
  {
   "cell_type": "code",
   "execution_count": 3,
   "id": "2b2d80c9",
   "metadata": {},
   "outputs": [
    {
     "data": {
      "text/plain": [
       "(1000,\n",
       " [['AROK_MYCTU_1_176_0/2iyw_A_rec_2iyq_adp_lig_tt_docked_1_pocket10.pdb',\n",
       "   'AROK_MYCTU_1_176_0/2iyw_A_rec_2iyq_adp_lig_tt_docked_1.sdf'],\n",
       "  ['COMT_MOUSE_44_264_0/5p9s_A_rec_5p9v_7jm_lig_tt_min_0_pocket10.pdb',\n",
       "   'COMT_MOUSE_44_264_0/5p9s_A_rec_5p9v_7jm_lig_tt_min_0.sdf'],\n",
       "  ['ESR1_HUMAN_300_553_0/5kcc_A_rec_5tms_7fg_lig_tt_docked_0_pocket10.pdb',\n",
       "   'ESR1_HUMAN_300_553_0/5kcc_A_rec_5tms_7fg_lig_tt_docked_0.sdf'],\n",
       "  ['FABPH_HUMAN_1_133_0/5b28_A_rec_4tjz_dka_lig_tt_min_0_pocket10.pdb',\n",
       "   'FABPH_HUMAN_1_133_0/5b28_A_rec_4tjz_dka_lig_tt_min_0.sdf'],\n",
       "  ['CCPR_YEAST_69_361_0/1cpe_A_rec_1aeq_2ez_lig_tt_docked_17_pocket10.pdb',\n",
       "   'CCPR_YEAST_69_361_0/1cpe_A_rec_1aeq_2ez_lig_tt_docked_17.sdf'],\n",
       "  ['CBP_HUMAN_1079_1197_0/3p1c_A_rec_5ep7_5qr_lig_tt_docked_6_pocket10.pdb',\n",
       "   'CBP_HUMAN_1079_1197_0/3p1c_A_rec_5ep7_5qr_lig_tt_docked_6.sdf'],\n",
       "  ['CCPR_YEAST_69_361_0/1cpe_A_rec_1aeq_2ez_lig_tt_docked_14_pocket10.pdb',\n",
       "   'CCPR_YEAST_69_361_0/1cpe_A_rec_1aeq_2ez_lig_tt_docked_14.sdf'],\n",
       "  ['FNTB_HUMAN_8_432_0/1o1s_B_rec_1n9a_hfp_lig_tt_docked_8_pocket10.pdb',\n",
       "   'FNTB_HUMAN_8_432_0/1o1s_B_rec_1n9a_hfp_lig_tt_docked_8.sdf'],\n",
       "  ['BRD4_HUMAN_42_168_0/4nuc_A_rec_4bw3_9bm_lig_tt_min_0_pocket10.pdb',\n",
       "   'BRD4_HUMAN_42_168_0/4nuc_A_rec_4bw3_9bm_lig_tt_min_0.sdf'],\n",
       "  ['ADRB1_MELGA_31_367_TM_0/2y03_B_rec_2y03_5fw_lig_tt_min_0_pocket10.pdb',\n",
       "   'ADRB1_MELGA_31_367_TM_0/2y03_B_rec_2y03_5fw_lig_tt_min_0.sdf']])"
      ]
     },
     "execution_count": 3,
     "metadata": {},
     "output_type": "execute_result"
    }
   ],
   "source": [
    "mol_data = []\n",
    "with open('./outputs/outputs_1/res.txt', 'r') as f:\n",
    "    mol_data = f.readlines()\n",
    "\n",
    "mol_data = [ x.strip().split(' ') for x in mol_data ]\n",
    "mol_data = [ x[-2:] for x in mol_data ]\n",
    "mol_data = mol_data[1:]\n",
    "len(mol_data), mol_data[:10]"
   ]
  },
  {
   "cell_type": "code",
   "execution_count": 4,
   "id": "f0c91a47",
   "metadata": {},
   "outputs": [
    {
     "name": "stderr",
     "output_type": "stream",
     "text": [
      "\r",
      "  0%|                                                                                         | 0/1000 [00:00<?, ?it/s]"
     ]
    },
    {
     "name": "stdout",
     "output_type": "stream",
     "text": [
      " PyMOL not running, entering library mode (experimental)\n"
     ]
    },
    {
     "name": "stderr",
     "output_type": "stream",
     "text": [
      "100%|██████████████████████████████████████████████████████████████████████████████| 1000/1000 [05:42<00:00,  2.92it/s]\n"
     ]
    }
   ],
   "source": [
    "for i in tqdm(range(1000)):\n",
    "    \n",
    "    try:\n",
    "        cmd.reinitialize()\n",
    "        cmd.load(\"../../data/crossdocked/crossdocked_pocket10/crossdocked_pocket10/\"+mol_data[i][0]) #\"BXA1_CLOBO_2_425_0/5v8p_B_rec_4hev_axm_lig_tt_docked_3_pocket10.pdb\")\n",
    "        cmd.set(\"cartoon_transparency\", \"0.5\")\n",
    "        # cmd.load(\"../../data/crossdocked/crossdocked_pocket10/crossdocked_pocket10/\"+mol_data[i][1]) #\"BXA1_CLOBO_2_425_0/5v8p_B_rec_4hev_axm_lig_tt_docked_3_pocket10.pdb\")\n",
    "        cmd.load(\"./outputs/mxQED_1/\"+str(i)+'.sdf')\n",
    "        cmd.reset()\n",
    "        cmd.png(\"outputs/placed_1/\"+str(i)+\".png\")\n",
    "    except:\n",
    "        pass"
   ]
  },
  {
   "cell_type": "code",
   "execution_count": 5,
   "id": "83455f5c",
   "metadata": {},
   "outputs": [],
   "source": [
    "def planarize_measure(lig_path):\n",
    "    \n",
    "    newmol = next(iter(Chem.SDMolSupplier(lig_path)))\n",
    "    rdkit.Chem.rdDepictor.GenerateDepictionMatching3DStructure(newmol, newmol)\n",
    "    \n",
    "    with SDWriter('./outputs/tmp.sdf') as w:\n",
    "        w.write(newmol)\n",
    "    \n",
    "    plane_lig_dict = parse_sdf_file('./outputs/tmp.sdf')\n",
    "    \n",
    "    finmol = reconstruct_from_generated(plane_lig_dict['pos'], plane_lig_dict['element'])\n",
    "    return newmol,finmol"
   ]
  },
  {
   "cell_type": "code",
   "execution_count": 6,
   "id": "80b0c5c1",
   "metadata": {},
   "outputs": [],
   "source": [
    "def generate_image(rdmol, filname):\n",
    "    \n",
    "    rdkit.Chem.rdDepictor.GenerateDepictionMatching3DStructure(rdmol, rdmol)\n",
    "    pilimage = Draw.MolToImage(rdmol)\n",
    "\n",
    "    # print(MolToSmiles(rdmol))\n",
    "\n",
    "    # rdmol = AddHs(rdmol)\n",
    "    # logp and qed are the same irrespective of hydrogen addition\n",
    "\n",
    "    logp = (Descriptors.MolLogP(rdmol))\n",
    "    qed = QED.qed(rdmol)\n",
    "    # props = QED.properties(rdmol)\n",
    "    sascore = sascorer.calculateScore(rdmol)\n",
    "\n",
    "    res = Image.new(pilimage.mode, (300, 350), (255,255,255))\n",
    "    res.paste(pilimage, (0, 50))\n",
    "\n",
    "    I1 = ImageDraw.Draw(res)\n",
    "\n",
    "    params = (\"logp = %.2f QED = %.2f SA = %.2f\" % (logp, qed, sascore))\n",
    "    font = ImageFont.truetype(\"myfont.ttf\", 15)\n",
    "    # print(params)\n",
    "    # Add Text to an image\n",
    "    I1.text((40, 25), params, fill=(0, 0, 0), font=font)\n",
    "\n",
    "    # Display edited image\n",
    "    res.save('./outputs/'+filname+'.png')\n",
    "    return res, qed, sascore, logp"
   ]
  },
  {
   "cell_type": "code",
   "execution_count": 7,
   "id": "58a4f901",
   "metadata": {},
   "outputs": [
    {
     "name": "stderr",
     "output_type": "stream",
     "text": [
      "  2%|██                                                                              | 25/1000 [00:02<01:09, 14.00it/s][00:28:35] atom 0 has specified valence (4) smaller than the drawn valence 5.\n",
      "[00:28:35] atom 1 has specified valence (1) smaller than the drawn valence 2.\n",
      "  5%|███▉                                                                            | 49/1000 [00:03<00:57, 16.44it/s][00:28:36] atom 0 has specified valence (1) smaller than the drawn valence 2.\n",
      "[00:28:36] atom 1 has specified valence (4) smaller than the drawn valence 5.\n",
      " 10%|████████▏                                                                      | 103/1000 [00:07<01:06, 13.58it/s][00:28:40] atom 0 has specified valence (4) smaller than the drawn valence 5.\n",
      "[00:28:40] atom 1 has specified valence (1) smaller than the drawn valence 2.\n",
      " 12%|█████████▋                                                                     | 123/1000 [00:08<00:59, 14.66it/s][00:28:41] atom 0 has specified valence (1) smaller than the drawn valence 2.\n",
      "[00:28:41] atom 1 has specified valence (4) smaller than the drawn valence 5.\n",
      " 14%|██████████▉                                                                    | 138/1000 [00:09<00:52, 16.39it/s][00:28:42] atom 0 has specified valence (4) smaller than the drawn valence 5.\n",
      "[00:28:42] atom 1 has specified valence (1) smaller than the drawn valence 2.\n",
      " 14%|███████████                                                                    | 140/1000 [00:09<00:51, 16.85it/s][00:28:42] atom 0 has specified valence (1) smaller than the drawn valence 2.\n",
      "[00:28:42] atom 1 has specified valence (4) smaller than the drawn valence 5.\n",
      " 17%|█████████████▋                                                                 | 174/1000 [00:11<00:47, 17.32it/s][00:28:44] atom 0 has specified valence (1) smaller than the drawn valence 2.\n",
      "[00:28:44] atom 1 has specified valence (4) smaller than the drawn valence 5.\n",
      " 21%|████████████████▉                                                              | 214/1000 [00:14<00:45, 17.33it/s][00:28:47] atom 1 has specified valence (1) smaller than the drawn valence 2.\n",
      " 23%|██████████████████                                                             | 228/1000 [00:14<00:49, 15.45it/s][00:28:48] atom 0 has specified valence (4) smaller than the drawn valence 5.\n",
      "[00:28:48] atom 1 has specified valence (1) smaller than the drawn valence 2.\n",
      "[00:28:48] atom 5 has specified valence (4) smaller than the drawn valence 5.\n",
      "[00:28:48] atom 6 has specified valence (1) smaller than the drawn valence 2.\n",
      " 24%|██████████████████▋                                                            | 236/1000 [00:15<00:48, 15.62it/s][00:28:48] atom 0 has specified valence (3) smaller than the drawn valence 4.\n",
      "[00:28:48] atom 2 has specified valence (1) smaller than the drawn valence 2.\n",
      " 27%|█████████████████████▏                                                         | 268/1000 [00:17<00:40, 17.94it/s][00:28:50] atom 0 has specified valence (1) smaller than the drawn valence 2.\n",
      "[00:28:50] atom 1 has specified valence (4) smaller than the drawn valence 5.\n",
      " 30%|███████████████████████▊                                                       | 302/1000 [00:19<00:45, 15.47it/s][00:28:52] atom 0 has specified valence (1) smaller than the drawn valence 2.\n",
      "[00:28:52] atom 1 has specified valence (4) smaller than the drawn valence 5.\n",
      " 31%|████████████████████████▋                                                      | 313/1000 [00:20<00:40, 17.13it/s][00:28:53] atom 0 has specified valence (1) smaller than the drawn valence 2.\n",
      "[00:28:53] atom 1 has specified valence (4) smaller than the drawn valence 5.\n",
      " 33%|██████████████████████████▏                                                    | 331/1000 [00:21<00:42, 15.65it/s][00:28:54] atom 0 has specified valence (1) smaller than the drawn valence 2.\n",
      "[00:28:54] atom 1 has specified valence (4) smaller than the drawn valence 5.\n",
      " 38%|██████████████████████████████▍                                                | 385/1000 [00:24<00:34, 17.61it/s][00:28:57] atom 0 has specified valence (4) smaller than the drawn valence 5.\n",
      "[00:28:57] atom 1 has specified valence (1) smaller than the drawn valence 2.\n",
      "[00:28:57] atom 5 has specified valence (4) smaller than the drawn valence 5.\n",
      "[00:28:57] atom 6 has specified valence (1) smaller than the drawn valence 2.\n",
      " 42%|█████████████████████████████████                                              | 419/1000 [00:26<00:33, 17.28it/s][00:28:59] atom 0 has specified valence (4) smaller than the drawn valence 5.\n",
      "[00:28:59] atom 1 has specified valence (1) smaller than the drawn valence 2.\n",
      " 43%|█████████████████████████████████▊                                             | 428/1000 [00:27<00:34, 16.77it/s][00:29:00] atom 0 has specified valence (1) smaller than the drawn valence 2.\n",
      "[00:29:00] atom 1 has specified valence (4) smaller than the drawn valence 5.\n",
      " 44%|██████████████████████████████████▌                                            | 438/1000 [00:27<00:35, 16.03it/s][00:29:00] atom 2 has specified valence (3) smaller than the drawn valence 4.\n",
      "[00:29:00] atom 7 has specified valence (1) smaller than the drawn valence 2.\n",
      " 46%|████████████████████████████████████▌                                          | 463/1000 [00:29<00:31, 17.17it/s][00:29:02] atom 2 has specified valence (3) smaller than the drawn valence 4.\n",
      "[00:29:02] atom 5 has specified valence (1) smaller than the drawn valence 2.\n",
      " 47%|█████████████████████████████████████                                          | 469/1000 [00:29<00:31, 17.01it/s][00:29:02] atom 2 has specified valence (1) smaller than the drawn valence 2.\n",
      " 56%|████████████████████████████████████████████▏                                  | 559/1000 [00:34<00:24, 18.03it/s][00:29:08] atom 0 has specified valence (3) smaller than the drawn valence 4.\n",
      "[00:29:08] atom 2 has specified valence (1) smaller than the drawn valence 2.\n",
      " 60%|███████████████████████████████████████████████                                | 595/1000 [00:37<00:25, 16.06it/s][00:29:10] atom 0 has specified valence (1) smaller than the drawn valence 2.\n",
      "[00:29:10] atom 1 has specified valence (3) smaller than the drawn valence 4.\n",
      " 64%|██████████████████████████████████████████████████▏                            | 635/1000 [00:39<00:21, 17.15it/s][00:29:12] atom 0 has specified valence (4) smaller than the drawn valence 5.\n",
      "[00:29:12] atom 1 has specified valence (1) smaller than the drawn valence 2.\n",
      " 64%|██████████████████████████████████████████████████▎                            | 637/1000 [00:39<00:23, 15.58it/s][00:29:12] atom 0 has specified valence (1) smaller than the drawn valence 2.\n",
      "[00:29:12] atom 1 has specified valence (4) smaller than the drawn valence 5.\n",
      " 68%|█████████████████████████████████████████████████████▍                         | 677/1000 [00:42<00:28, 11.35it/s][00:29:15] atom 0 has specified valence (4) smaller than the drawn valence 5.\n",
      "[00:29:15] atom 1 has specified valence (1) smaller than the drawn valence 2.\n",
      "[00:29:15] atom 5 has specified valence (4) smaller than the drawn valence 5.\n",
      "[00:29:15] atom 6 has specified valence (1) smaller than the drawn valence 2.\n",
      "[00:29:15] atom 0 has specified valence (1) smaller than the drawn valence 2.\n",
      "[00:29:15] atom 1 has specified valence (4) smaller than the drawn valence 5.\n",
      " 78%|██████████████████████████████████████████████████████████████                 | 785/1000 [00:48<00:11, 19.22it/s][00:29:21] atom 8 has specified valence (3) smaller than the drawn valence 4.\n",
      " 79%|██████████████████████████████████████████████████████████████▋                | 794/1000 [00:49<00:13, 14.87it/s][00:29:22] atom 2 has specified valence (1) smaller than the drawn valence 2.\n",
      " 84%|██████████████████████████████████████████████████████████████████▌            | 843/1000 [00:52<00:10, 15.17it/s][00:29:25] atom 1 has specified valence (4) smaller than the drawn valence 5.\n",
      "[00:29:25] atom 2 has specified valence (1) smaller than the drawn valence 2.\n",
      " 88%|█████████████████████████████████████████████████████████████████████▌         | 880/1000 [00:55<00:08, 13.41it/s][00:29:28] atom 2 has specified valence (1) smaller than the drawn valence 2.\n"
     ]
    },
    {
     "name": "stderr",
     "output_type": "stream",
     "text": [
      " 89%|██████████████████████████████████████████████████████████████████████▏        | 888/1000 [00:55<00:08, 13.89it/s][00:29:28] atom 0 has specified valence (4) smaller than the drawn valence 5.\n",
      "[00:29:28] atom 1 has specified valence (1) smaller than the drawn valence 2.\n",
      "100%|██████████████████████████████████████████████████████████████████████████████| 1000/1000 [01:03<00:00, 15.75it/s]"
     ]
    },
    {
     "name": "stdout",
     "output_type": "stream",
     "text": [
      "59 failed\n"
     ]
    },
    {
     "name": "stderr",
     "output_type": "stream",
     "text": [
      "\n"
     ]
    }
   ],
   "source": [
    "f = 0\n",
    "planar_orig_qeds = []\n",
    "planar_plan_qeds = []\n",
    "planar_orig_sascores = []\n",
    "planar_plan_sascores = []\n",
    "planar_orig_logps = []\n",
    "planar_plan_logps = []\n",
    "planar_ns = []\n",
    "for i in tqdm(range(1000)):\n",
    "    try:\n",
    "        orig, plan = planarize_measure('./outputs/mxQED_1/'+str(i)+'.sdf')\n",
    "        planar_ns.append(plan.GetNumAtoms())\n",
    "        orig_img, orig_qed, orig_sascore, orig_logp = generate_image(orig, 'tmp')\n",
    "        plan_img, plan_qed, plan_sascore, plan_logp = generate_image(plan, 'tmp1')\n",
    "        planar_orig_qeds.append(orig_qed)\n",
    "        planar_plan_qeds.append(plan_qed)\n",
    "        planar_orig_sascores.append(orig_sascore)\n",
    "        planar_plan_sascores.append(plan_sascore)\n",
    "        planar_orig_logps.append(orig_logp)\n",
    "        planar_plan_logps.append(plan_logp)\n",
    "        res = Image.new(\"RGB\", (600, 350), (255,255,255))\n",
    "        res.paste(orig_img, (0,0))\n",
    "        res.paste(plan_img, (300,0))\n",
    "        res.save('./outputs/planar_1/'+str(i)+'.png')\n",
    "        with SDWriter('./outputs/planar_1/'+str(i)+'.sdf') as w:\n",
    "            if(plan_qed >= orig_qed): w.write(plan)\n",
    "            else: w.write(orig)\n",
    "    except:\n",
    "        f += 1\n",
    "        planar_ns.append(0)\n",
    "        planar_orig_qeds.append(-1)\n",
    "        planar_plan_qeds.append(-1)\n",
    "        planar_orig_sascores.append(-1)\n",
    "        planar_plan_sascores.append(-1)\n",
    "        planar_orig_logps.append(-10)\n",
    "        planar_plan_logps.append(-10)\n",
    "print(f, 'failed')\n",
    "\n",
    "planar_orig_qeds = np.array(planar_orig_qeds)\n",
    "planar_plan_qeds = np.array(planar_plan_qeds)\n",
    "planar_ns = np.array(planar_ns)\n",
    "planar_orig_sascores = np.array(planar_orig_sascores)\n",
    "planar_plan_sascores = np.array(planar_plan_sascores)\n",
    "planar_orig_logps = np.array(planar_orig_logps)\n",
    "planar_plan_logps = np.array(planar_plan_logps)"
   ]
  },
  {
   "cell_type": "code",
   "execution_count": 94,
   "id": "f33670ee",
   "metadata": {},
   "outputs": [],
   "source": [
    "lig_df = pd.read_csv('../../smiles_2.csv', header=None)\n",
    "lig_smiles = list(lig_df[0])\n",
    "lig_paths = list(lig_df[1])\n",
    "\n",
    "rdmols = []\n",
    "for smiles in lig_smiles:\n",
    "    rdmols.append(Chem.MolFromSmiles(smiles))\n",
    "    \n",
    "fgrps = [rdkit_gen.GetFingerprint(mol) for mol in rdmols]"
   ]
  },
  {
   "cell_type": "code",
   "execution_count": 95,
   "id": "5c531e88",
   "metadata": {},
   "outputs": [
    {
     "name": "stderr",
     "output_type": "stream",
     "text": [
      " 17%|█████████████▋                                                                 | 173/1000 [00:18<01:11, 11.51it/s][00:52:14] atom 0 has specified valence (3) smaller than the drawn valence 4.\n",
      "[00:52:14] atom 1 has specified valence (1) smaller than the drawn valence 2.\n",
      " 59%|██████████████████████████████████████████████▎                                | 587/1000 [00:50<00:33, 12.32it/s][00:52:46] atom 3 has specified valence (3) smaller than the drawn valence 4.\n",
      " 68%|██████████████████████████████████████████████████████                         | 685/1000 [00:58<00:24, 12.86it/s][00:52:54] atom 0 has specified valence (3) smaller than the drawn valence 4.\n",
      "[00:52:54] atom 2 has specified valence (1) smaller than the drawn valence 2.\n",
      " 75%|███████████████████████████████████████████████████████████▌                   | 754/1000 [01:03<00:18, 13.52it/s][00:52:59] atom 10 has specified valence (3) smaller than the drawn valence 4.\n",
      "[00:52:59] atom 16 has specified valence (3) smaller than the drawn valence 4.\n",
      " 82%|████████████████████████████████████████████████████████████████▉              | 822/1000 [01:09<00:18,  9.65it/s][00:53:05] atom 2 has specified valence (1) smaller than the drawn valence 2.\n",
      " 90%|██████████████████████████████████████████████████████████████████████▋        | 895/1000 [01:14<00:09, 11.17it/s][00:53:11] atom 3 has specified valence (1) smaller than the drawn valence 2.\n",
      "100%|██████████████████████████████████████████████████████████████████████████████| 1000/1000 [01:24<00:00, 11.86it/s]\n"
     ]
    }
   ],
   "source": [
    "planar_similarities = []\n",
    "for i in tqdm(range(1000)):\n",
    "    try:\n",
    "        newmol = next(iter(Chem.SDMolSupplier('./outputs/planar_1/'+str(i)+'.sdf')))\n",
    "    except:\n",
    "        planar_similarities.append(-1)\n",
    "        # where_maxs.append(-1)\n",
    "        continue\n",
    "    newimg, qed, sascore, logp = generate_image(newmol, 'tmp')\n",
    "    # if(qed<0.7): continue\n",
    "    newsmiles = Chem.MolToSmiles(newmol)\n",
    "    newmol = Chem.MolFromSmiles(newsmiles)\n",
    "    newfgrp = rdkit_gen.GetFingerprint(newmol)\n",
    "    similarity = DataStructs.BulkTanimotoSimilarity(newfgrp, fgrps)\n",
    "    # similarities.append(np.max(similarity))\n",
    "    # where_maxs.append(np.where(np.array(similarity) == np.max(similarity)))\n",
    "    ix = np.argmax(similarity)\n",
    "    datamol = next(iter(Chem.SDMolSupplier(data_path+lig_paths[ix][1:])))\n",
    "    dataimg, qed, sascore, logp = generate_image(datamol, 'tmp')\n",
    "    res = Image.new(\"RGB\", (600, 370), (255,255,255))\n",
    "    res.paste(newimg, (0,0))\n",
    "    res.paste(dataimg, (300,0))\n",
    "    I1 = ImageDraw.Draw(res)\n",
    "    font = ImageFont.truetype(\"myfont.ttf\", 15)\n",
    "    I1.text((250, 350), (\"Similarity %.2f\" % (np.max(similarity))), fill=(0, 0, 0), font=font)\n",
    "    res.save('./outputs/planar_1/'+str(i)+'_data.png')\n",
    "    planar_similarities.append(np.max(similarity))\n",
    "planar_similarities = np.array(planar_similarities)"
   ]
  },
  {
   "cell_type": "code",
   "execution_count": 96,
   "id": "fa7a3ebe",
   "metadata": {},
   "outputs": [
    {
     "data": {
      "image/png": "[encoded data removed]",
      "text/plain": [
       "<Figure size 432x288 with 1 Axes>"
      ]
     },
     "metadata": {
      "needs_background": "light"
     },
     "output_type": "display_data"
    }
   ],
   "source": [
    "sns.kdeplot(data=np.delete(planar_similarities, np.where(planar_ns<10)), label = 'planar')\n",
    "# sns.kdeplot(data=np.delete(all_similarities, np.where(all_ns<10)), label = 'all')\n",
    "# sns.kdeplot(data=data_props['sascore'], label = 'data')\n",
    "# plt.legend()\n",
    "plt.grid()\n",
    "plt.xlabel('Highest Tanimoto Similarity with Data')\n",
    "plt.show()"
   ]
  },
  {
   "cell_type": "code",
   "execution_count": 97,
   "id": "e996b707",
   "metadata": {},
   "outputs": [
    {
     "name": "stderr",
     "output_type": "stream",
     "text": [
      "100%|█████████████████████████████████████████████████████████████████████████████| 1000/1000 [00:03<00:00, 280.98it/s]\n"
     ]
    }
   ],
   "source": [
    "similarities_2 = []\n",
    "for i in range(1000):\n",
    "    if(planar_ns[i]<8): similarities_2.append(-1)\n",
    "    else: similarities_2.append(planar_similarities[i])\n",
    "similarities_2 = np.array(similarities_2)\n",
    "\n",
    "sorted_ix = np.argsort(-similarities_2)\n",
    "\n",
    "for i in tqdm(range(1000)):\n",
    "    if(similarities_2[sorted_ix[i]] == -1): continue\n",
    "    \n",
    "    shutil.copy('outputs/planar_planar_1/'+str(sorted_ix[i])+'_data.png', 'outputs/planar_planar_1/top_tanimoto/'+str(i)+'.png')"
   ]
  },
  {
   "cell_type": "code",
   "execution_count": 22,
   "id": "c7d4fcd8",
   "metadata": {
    "scrolled": true
   },
   "outputs": [
    {
     "data": {
      "image/png": "[encoded data removed]",
      "text/plain": [
       "<Figure size 432x288 with 1 Axes>"
      ]
     },
     "metadata": {
      "needs_background": "light"
     },
     "output_type": "display_data"
    }
   ],
   "source": [
    "sns.kdeplot(data=np.delete(planar_orig_qeds, np.where(planar_ns<7)), label = 'n >= 7')\n",
    "sns.kdeplot(data=np.delete(planar_orig_qeds, np.where(planar_ns<=0)), label = 'all')\n",
    "plt.legend()\n",
    "plt.xlabel('QED')\n",
    "plt.show()"
   ]
  },
  {
   "cell_type": "code",
   "execution_count": 8,
   "id": "2b8fb7f8",
   "metadata": {},
   "outputs": [
    {
     "name": "stderr",
     "output_type": "stream",
     "text": [
      "100%|████████████████████████████████████████████████████████████████████████████████| 100/100 [01:03<00:00,  1.58it/s]\n"
     ]
    }
   ],
   "source": [
    "x = 0\n",
    "for i in tqdm(np.argsort(-planar_orig_qeds)[:100]):\n",
    "    \n",
    "    try:\n",
    "        shutil.copy(\"../../data/crossdocked/crossdocked_pocket10/crossdocked_pocket10/\"+mol_data[i][0], \"outputs/fin_files_1/\"+str(x)+\".pdb\")\n",
    "        shutil.copy('outputs/mxQED_1/'+str(i)+'.sdf', 'outputs/fin_files_1/'+str(x)+'.sdf')\n",
    "        \n",
    "        cmd.reinitialize()\n",
    "        cmd.load(\"./outputs/mxQED_1/\"+str(i)+'.sdf')\n",
    "        cmd.load(\"../../data/crossdocked/crossdocked_pocket10/crossdocked_pocket10/\"+mol_data[i][0]) #\"BXA1_CLOBO_2_425_0/5v8p_B_rec_4hev_axm_lig_tt_docked_3_pocket10.pdb\")\n",
    "        cmd.set(\"cartoon_transparency\", \"0.5\")\n",
    "        # cmd.load(\"../../data/crossdocked/crossdocked_pocket10/crossdocked_pocket10/\"+mol_data[i][1]) #\"BXA1_CLOBO_2_425_0/5v8p_B_rec_4hev_axm_lig_tt_docked_3_pocket10.pdb\")\n",
    "        # cmd.load(\"./outputs/mxQED_planar_1/\"+str(i)+'.sdf')\n",
    "        cmd.reset()\n",
    "        cmd.png(\"outputs/fin_1/\"+str(x)+\"pl.png\")\n",
    "        \n",
    "        cmd.reinitialize()\n",
    "        cmd.load(\"../../data/crossdocked/crossdocked_pocket10/crossdocked_pocket10/\"+mol_data[i][0]) #\"BXA1_CLOBO_2_425_0/5v8p_B_rec_4hev_axm_lig_tt_docked_3_pocket10.pdb\")\n",
    "        cmd.png(\"outputs/fin_1/\"+str(x)+\"p.png\")\n",
    "        \n",
    "        shutil.copy('outputs/mxQED_1/'+str(i)+'.png', 'outputs/fin_1/'+str(x)+'l.png')\n",
    "    except:\n",
    "        pass\n",
    "    \n",
    "    x += 1"
   ]
  },
  {
   "cell_type": "code",
   "execution_count": 100,
   "id": "0d622df7",
   "metadata": {},
   "outputs": [
    {
     "data": {
      "text/plain": [
       "(1000,)"
      ]
     },
     "execution_count": 100,
     "metadata": {},
     "output_type": "execute_result"
    }
   ],
   "source": [
    "planar_orig_qeds.shape"
   ]
  }
 ],
 "metadata": {
  "kernelspec": {
   "display_name": "Python 3 (ipykernel)",
   "language": "python",
   "name": "python3"
  },
  "language_info": {
   "codemirror_mode": {
    "name": "ipython",
    "version": 3
   },
   "file_extension": ".py",
   "mimetype": "text/x-python",
   "name": "python",
   "nbconvert_exporter": "python",
   "pygments_lexer": "ipython3",
   "version": "3.9.7"
  }
 },
 "nbformat": 4,
 "nbformat_minor": 5
}
