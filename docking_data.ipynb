{
 "cells": [
  {
   "cell_type": "code",
   "execution_count": 1,
   "id": "5222768a",
   "metadata": {},
   "outputs": [],
   "source": [
    "from protein_ligand import PDBProtein, parse_sdf_file\n",
    "# from reconstruct import reconstruct_from_generated\n",
    "import numpy as np\n",
    "import scipy.linalg\n",
    "from PIL import Image, ImageDraw, ImageFont\n",
    "import rdkit\n",
    "from pymol import cmd\n",
    "import sascorer\n",
    "\n",
    "from rdkit import Chem, DataStructs\n",
    "from rdkit.Chem import SDWriter, Descriptors, Draw, QED, rdFingerprintGenerator\n",
    "import seaborn as sns\n",
    "import matplotlib.pyplot as plt\n",
    "import pickle\n",
    "import pandas as pd\n",
    "import shutil\n",
    "from tqdm import tqdm\n",
    "import os"
   ]
  },
  {
   "cell_type": "code",
   "execution_count": 2,
   "id": "2bca4c95",
   "metadata": {},
   "outputs": [],
   "source": [
    "data_path = '../../../../data/processed_2/'\n",
    "crossdocked_path = '../../../../data/crossdocked/crossdocked_pocket10/crossdocked_pocket10/'\n",
    "\n",
    "vina_dock = 'vina --receptor protein.pdbqt --ligand %s --center_x %.4f --center_y %.4f --center_z %.4f --size_x 40 --size_y 40 --size_z 40 --out %s'\n",
    "vina_score = 'vina --receptor %s --ligand %s --score_only --log %s'\n",
    "\n",
    "prepare_ligand = \"C:\\Python27\\python.exe \\\"C:\\Program Files (x86)\\MGLTools-1.5.7\\Lib\\site-packages\\AutoDockTools\\\\Utilities24\\prepare_ligand4.py\\\" -l %s -v -o %s\"# -A bonds_hydrogens\"\n",
    "prepare_protein = \"C:\\Python27\\python.exe \\\"C:\\Program Files (x86)\\MGLTools-1.5.7\\Lib\\site-packages\\AutoDockTools\\\\Utilities24\\prepare_receptor4.py\\\" -r %s -o %s\"# -A bonds_hydrogens\"\n",
    "pdbqt_to_pdb = \"C:\\Python27\\python.exe \\\"C:\\Program Files (x86)\\MGLTools-1.5.7\\Lib\\site-packages\\AutoDockTools\\\\Utilities24\\pdbqt_to_pdb.py\\\" -f %s -o %s\"\n",
    "\n",
    "\n",
    "def load_file(filename):\n",
    "    with open(filename, 'rb') as f:\n",
    "        return pickle.load(f)"
   ]
  },
  {
   "cell_type": "code",
   "execution_count": 3,
   "id": "796fb047",
   "metadata": {},
   "outputs": [
    {
     "name": "stdout",
     "output_type": "stream",
     "text": [
      "C:\\Python27\\python.exe \"C:\\Program Files (x86)\\MGLTools-1.5.7\\Lib\\site-packages\\AutoDockTools\\Utilities24\\prepare_ligand4.py\" -l ligand1.pdb -v -o ligand1.pdbqt\n",
      "C:\\Python27\\python.exe \"C:\\Program Files (x86)\\MGLTools-1.5.7\\Lib\\site-packages\\AutoDockTools\\Utilities24\\prepare_receptor4.py\" -r protein1.pdb -o protein1.pdbqt\n",
      "vina --receptor protein.pdbqt --ligand ligand.pdbqt --score_only --log log.txt\n",
      "vina --receptor protein.pdbqt --ligand 2.pdbqt --center_x 1.3000 --center_y 1.4000 --center_z 1.5000 --size_x 40 --size_y 40 --size_z 40 --out 1.pdbqt\n",
      "C:\\Python27\\python.exe \"C:\\Program Files (x86)\\MGLTools-1.5.7\\Lib\\site-packages\\AutoDockTools\\Utilities24\\pdbqt_to_pdb.py\" -f in.pdbqt -o out.pdb\n"
     ]
    }
   ],
   "source": [
    "print(prepare_ligand % (\"ligand\"+str(1)+\".pdb\", \"ligand\"+str(1)+\".pdbqt\"))\n",
    "print(prepare_protein % (\"protein\"+str(1)+\".pdb\", \"protein\"+str(1)+\".pdbqt\"))\n",
    "print(vina_score % (\"protein.pdbqt\",\"ligand.pdbqt\", \"log.txt\"))\n",
    "print(vina_dock % (\"2.pdbqt\", 1.3, 1.4, 1.5,\"1.pdbqt\"))\n",
    "print(pdbqt_to_pdb % (\"in.pdbqt\", \"out.pdb\"))"
   ]
  },
  {
   "cell_type": "code",
   "execution_count": 4,
   "id": "3e19d418",
   "metadata": {},
   "outputs": [],
   "source": [
    "index = load_file(data_path+'index.pickle')\n",
    "sample_protein_ligand = load_file(data_path+index[0])\n",
    "\n",
    "pfdim = len(sample_protein_ligand['pf'][0])\n",
    "lfdim = len(sample_protein_ligand['lf'][0])"
   ]
  },
  {
   "cell_type": "code",
   "execution_count": 6,
   "id": "65aded7d",
   "metadata": {
    "scrolled": false
   },
   "outputs": [
    {
     "name": "stderr",
     "output_type": "stream",
     "text": [
      "100%|██████████████████████████████████████████████████████████████████████████| 17953/17953 [4:19:24<00:00,  1.15it/s]\n"
     ]
    }
   ],
   "source": [
    "res = {}\n",
    "affinities = []\n",
    "failed = 0\n",
    "\n",
    "for i in tqdm(range(len(index))):\n",
    "    \n",
    "    pl = load_file(data_path+index[i])\n",
    "    p_path = pl['p']\n",
    "    l_path = pl['l']\n",
    "    \n",
    "    os.system(\"obabel %s -O %s\" % (crossdocked_path+l_path, \"data_ligand.pdb\"))\n",
    "    \n",
    "    ligand_prep = prepare_ligand % (\"data_ligand.pdb\", \"data_ligand.pdbqt\")\n",
    "    os.system(ligand_prep)\n",
    "    \n",
    "    protein_prep = prepare_protein % (crossdocked_path+p_path, \"data_protein.pdbqt\")\n",
    "    os.system(protein_prep)\n",
    "    \n",
    "    score_cmd = vina_score % (\"data_protein.pdbqt\",\"data_ligand.pdbqt\", \"data_log.txt\")\n",
    "    os.system(score_cmd)\n",
    "    \n",
    "    try:\n",
    "        with open('data_log.txt', 'r') as f: log = f.readlines()\n",
    "        affinity = float(log[18].split(' ')[1])\n",
    "        # print(affinity)\n",
    "        affinities.append(affinity)\n",
    "    except:\n",
    "        failed += 1\n",
    "        pass\n",
    "    \n",
    "res['data'] = affinities\n",
    "res['failed'] = failed\n",
    "with open('data_affinities.obj', 'wb') as f: pickle.dump(res,f)"
   ]
  },
  {
   "cell_type": "code",
   "execution_count": 7,
   "id": "4ac42fd4",
   "metadata": {},
   "outputs": [
    {
     "data": {
      "text/plain": [
       "([-4.21087,\n",
       "  -6.82166,\n",
       "  -3.94583,\n",
       "  -3.46705,\n",
       "  -2.71776,\n",
       "  -3.03533,\n",
       "  -6.85848,\n",
       "  -3.72341,\n",
       "  -6.81347,\n",
       "  -6.45894],\n",
       " 0)"
      ]
     },
     "execution_count": 7,
     "metadata": {},
     "output_type": "execute_result"
    }
   ],
   "source": [
    "with open('data_affinities.obj', 'rb') as f: dat = pickle.load(f)\n",
    "dat['data'][:10], dat['failed']"
   ]
  },
  {
   "cell_type": "code",
   "execution_count": 8,
   "id": "6cf076ad",
   "metadata": {},
   "outputs": [],
   "source": [
    "affs = np.array(dat['data'])"
   ]
  },
  {
   "cell_type": "code",
   "execution_count": 12,
   "id": "4c49bdd8",
   "metadata": {},
   "outputs": [
    {
     "name": "stdout",
     "output_type": "stream",
     "text": [
      "-6.132064099274958\n"
     ]
    },
    {
     "data": {
      "image/png": "[encoded data removed]",
      "text/plain": [
       "<Figure size 432x288 with 1 Axes>"
      ]
     },
     "metadata": {
      "needs_background": "light"
     },
     "output_type": "display_data"
    }
   ],
   "source": [
    "sns.kdeplot(data=affs[affs<6])\n",
    "plt.grid()\n",
    "print(np.mean(affs[affs<5]))"
   ]
  },
  {
   "cell_type": "code",
   "execution_count": 21,
   "id": "4e4e25f9",
   "metadata": {},
   "outputs": [],
   "source": [
    "def generate_image(rdmol, filname):\n",
    "    \n",
    "    rdkit.Chem.rdDepictor.GenerateDepictionMatching3DStructure(rdmol, rdmol)\n",
    "    pilimage = Draw.MolToImage(rdmol)\n",
    "\n",
    "    # print(MolToSmiles(rdmol))\n",
    "\n",
    "    # rdmol = AddHs(rdmol)\n",
    "    # logp and qed are the same irrespective of hydrogen addition\n",
    "\n",
    "    logp = (Descriptors.MolLogP(rdmol))\n",
    "    qed = QED.qed(rdmol)\n",
    "    # props = QED.properties(rdmol)\n",
    "    sascore = sascorer.calculateScore(rdmol)\n",
    "\n",
    "    res = Image.new(pilimage.mode, (300, 350), (255,255,255))\n",
    "    res.paste(pilimage, (0, 50))\n",
    "\n",
    "    I1 = ImageDraw.Draw(res)\n",
    "\n",
    "    params = (\"logp = %.2f QED = %.2f SA = %.2f\" % (logp, qed, sascore))\n",
    "    font = ImageFont.truetype(\"myfont.ttf\", 15)\n",
    "    # print(params)\n",
    "    # Add Text to an image\n",
    "    I1.text((40, 25), params, fill=(0, 0, 0), font=font)\n",
    "\n",
    "    # Display edited image\n",
    "    # res.save('./outputs/'+filname+'.png')\n",
    "    return res, qed, sascore, logp"
   ]
  },
  {
   "cell_type": "code",
   "execution_count": 23,
   "id": "6d203129",
   "metadata": {},
   "outputs": [
    {
     "name": "stderr",
     "output_type": "stream",
     "text": [
      "  0%|                                                                                         | 0/1000 [00:00<?, ?it/s][18:32:04] Explicit valence for atom # 0 N, 4, is greater than permitted\n",
      "[18:32:04] ERROR: Could not sanitize molecule ending on line 25\n",
      "[18:32:04] ERROR: Explicit valence for atom # 0 N, 4, is greater than permitted\n",
      "  1%|▊                                                                              | 11/1000 [00:00<00:09, 105.45it/s][18:32:04] Explicit valence for atom # 1 C, 5, is greater than permitted\n",
      "[18:32:04] ERROR: Could not sanitize molecule ending on line 29\n",
      "[18:32:04] ERROR: Explicit valence for atom # 1 C, 5, is greater than permitted\n",
      "[18:32:04] Explicit valence for atom # 1 C, 5, is greater than permitted\n",
      "[18:32:04] ERROR: Could not sanitize molecule ending on line 45\n",
      "[18:32:04] ERROR: Explicit valence for atom # 1 C, 5, is greater than permitted\n",
      "[18:32:04] Explicit valence for atom # 1 C, 5, is greater than permitted\n",
      "[18:32:04] ERROR: Could not sanitize molecule ending on line 43\n",
      "[18:32:04] ERROR: Explicit valence for atom # 1 C, 5, is greater than permitted\n",
      "  6%|████▉                                                                          | 62/1000 [00:00<00:08, 106.97it/s][18:32:04] Explicit valence for atom # 4 C, 5, is greater than permitted\n",
      "[18:32:04] ERROR: Could not sanitize molecule ending on line 42\n",
      "[18:32:04] ERROR: Explicit valence for atom # 4 C, 5, is greater than permitted\n",
      "[18:32:04] Explicit valence for atom # 3 N, 4, is greater than permitted\n",
      "[18:32:04] ERROR: Could not sanitize molecule ending on line 39\n",
      "[18:32:04] ERROR: Explicit valence for atom # 3 N, 4, is greater than permitted\n",
      "[18:32:04] Explicit valence for atom # 18 C, 5, is greater than permitted\n",
      "[18:32:04] ERROR: Could not sanitize molecule ending on line 49\n",
      "[18:32:04] ERROR: Explicit valence for atom # 18 C, 5, is greater than permitted\n",
      "  7%|█████▊                                                                         | 74/1000 [00:00<00:08, 109.85it/s][18:32:05] Explicit valence for atom # 6 N, 4, is greater than permitted\n",
      "[18:32:05] ERROR: Could not sanitize molecule ending on line 30\n",
      "[18:32:05] ERROR: Explicit valence for atom # 6 N, 4, is greater than permitted\n",
      "  9%|██████▊                                                                        | 86/1000 [00:00<00:08, 109.81it/s][18:32:05] Explicit valence for atom # 0 N, 4, is greater than permitted\n",
      "[18:32:05] ERROR: Could not sanitize molecule ending on line 31\n",
      "[18:32:05] ERROR: Explicit valence for atom # 0 N, 4, is greater than permitted\n",
      "[18:32:05] Explicit valence for atom # 2 N, 4, is greater than permitted\n",
      "[18:32:05] ERROR: Could not sanitize molecule ending on line 30\n",
      "[18:32:05] ERROR: Explicit valence for atom # 2 N, 4, is greater than permitted\n",
      " 10%|███████▋                                                                       | 98/1000 [00:00<00:08, 111.11it/s][18:32:05] Explicit valence for atom # 0 N, 4, is greater than permitted\n",
      "[18:32:05] ERROR: Could not sanitize molecule ending on line 25\n",
      "[18:32:05] ERROR: Explicit valence for atom # 0 N, 4, is greater than permitted\n",
      " 15%|███████████▌                                                                  | 148/1000 [00:01<00:08, 102.96it/s][18:32:05] Explicit valence for atom # 0 C, 5, is greater than permitted\n",
      "[18:32:05] ERROR: Could not sanitize molecule ending on line 26\n",
      "[18:32:05] ERROR: Explicit valence for atom # 0 C, 5, is greater than permitted\n",
      " 16%|████████████▌                                                                 | 161/1000 [00:01<00:07, 108.36it/s][18:32:05] Explicit valence for atom # 1 C, 5, is greater than permitted\n",
      "[18:32:05] ERROR: Could not sanitize molecule ending on line 23\n",
      "[18:32:05] ERROR: Explicit valence for atom # 1 C, 5, is greater than permitted\n",
      "[18:32:05] Explicit valence for atom # 6 C, 5, is greater than permitted\n",
      "[18:32:05] ERROR: Could not sanitize molecule ending on line 34\n",
      "[18:32:05] ERROR: Explicit valence for atom # 6 C, 5, is greater than permitted\n",
      " 19%|██████████████▌                                                               | 186/1000 [00:01<00:07, 110.25it/s][18:32:06] Explicit valence for atom # 1 C, 6, is greater than permitted\n",
      "[18:32:06] ERROR: Could not sanitize molecule ending on line 17\n",
      "[18:32:06] ERROR: Explicit valence for atom # 1 C, 6, is greater than permitted\n",
      " 20%|███████████████▍                                                              | 198/1000 [00:01<00:07, 106.86it/s][18:32:06] Explicit valence for atom # 0 C, 5, is greater than permitted\n",
      "[18:32:06] ERROR: Could not sanitize molecule ending on line 37\n",
      "[18:32:06] ERROR: Explicit valence for atom # 0 C, 5, is greater than permitted\n",
      "[18:32:06] Explicit valence for atom # 1 C, 5, is greater than permitted\n",
      "[18:32:06] ERROR: Could not sanitize molecule ending on line 17\n",
      "[18:32:06] ERROR: Explicit valence for atom # 1 C, 5, is greater than permitted\n",
      " 21%|████████████████▍                                                             | 210/1000 [00:01<00:07, 109.56it/s][18:32:06] Explicit valence for atom # 8 C, 5, is greater than permitted\n",
      "[18:32:06] ERROR: Could not sanitize molecule ending on line 37\n",
      "[18:32:06] ERROR: Explicit valence for atom # 8 C, 5, is greater than permitted\n",
      " 22%|█████████████████▎                                                            | 222/1000 [00:02<00:07, 107.95it/s][18:32:06] Explicit valence for atom # 2 C, 5, is greater than permitted\n",
      "[18:32:06] ERROR: Could not sanitize molecule ending on line 40\n",
      "[18:32:06] ERROR: Explicit valence for atom # 2 C, 5, is greater than permitted\n",
      " 27%|█████████████████████▏                                                        | 272/1000 [00:02<00:06, 105.94it/s][18:32:06] Explicit valence for atom # 6 C, 5, is greater than permitted\n",
      "[18:32:06] ERROR: Could not sanitize molecule ending on line 25\n",
      "[18:32:06] ERROR: Explicit valence for atom # 6 C, 5, is greater than permitted\n",
      "[18:32:06] Explicit valence for atom # 3 N, 4, is greater than permitted\n",
      "[18:32:06] ERROR: Could not sanitize molecule ending on line 35\n",
      "[18:32:06] ERROR: Explicit valence for atom # 3 N, 4, is greater than permitted\n",
      "[18:32:06] Explicit valence for atom # 2 N, 4, is greater than permitted\n",
      "[18:32:06] ERROR: Could not sanitize molecule ending on line 35\n",
      "[18:32:06] ERROR: Explicit valence for atom # 2 N, 4, is greater than permitted\n",
      " 31%|████████████████████████▎                                                     | 311/1000 [00:02<00:06, 113.77it/s][18:32:07] Explicit valence for atom # 2 N, 4, is greater than permitted\n",
      "[18:32:07] ERROR: Could not sanitize molecule ending on line 28\n",
      "[18:32:07] ERROR: Explicit valence for atom # 2 N, 4, is greater than permitted\n",
      " 32%|█████████████████████████▎                                                    | 324/1000 [00:02<00:05, 117.25it/s][18:32:07] Explicit valence for atom # 0 C, 5, is greater than permitted\n",
      "[18:32:07] ERROR: Could not sanitize molecule ending on line 21\n",
      "[18:32:07] ERROR: Explicit valence for atom # 0 C, 5, is greater than permitted\n",
      " 38%|█████████████████████████████▍                                                | 377/1000 [00:03<00:05, 119.09it/s][18:32:07] Explicit valence for atom # 4 C, 5, is greater than permitted\n",
      "[18:32:07] ERROR: Could not sanitize molecule ending on line 21\n",
      "[18:32:07] ERROR: Explicit valence for atom # 4 C, 5, is greater than permitted\n",
      "[18:32:07] Explicit valence for atom # 2 C, 5, is greater than permitted\n",
      "[18:32:07] ERROR: Could not sanitize molecule ending on line 30\n",
      "[18:32:07] ERROR: Explicit valence for atom # 2 C, 5, is greater than permitted\n",
      "[18:32:07] Explicit valence for atom # 2 N, 4, is greater than permitted\n",
      "[18:32:07] ERROR: Could not sanitize molecule ending on line 25\n",
      "[18:32:07] ERROR: Explicit valence for atom # 2 N, 4, is greater than permitted\n",
      " 39%|██████████████████████████████▍                                               | 391/1000 [00:03<00:04, 123.45it/s][18:32:07] Explicit valence for atom # 0 C, 5, is greater than permitted\n",
      "[18:32:07] ERROR: Could not sanitize molecule ending on line 29\n",
      "[18:32:07] ERROR: Explicit valence for atom # 0 C, 5, is greater than permitted\n",
      "[18:32:07] Explicit valence for atom # 1 C, 5, is greater than permitted\n",
      "[18:32:07] ERROR: Could not sanitize molecule ending on line 32\n",
      "[18:32:07] ERROR: Explicit valence for atom # 1 C, 5, is greater than permitted\n"
     ]
    },
    {
     "name": "stderr",
     "output_type": "stream",
     "text": [
      " 44%|██████████████████████████████████▍                                           | 442/1000 [00:03<00:05, 108.15it/s][18:32:08] Explicit valence for atom # 2 C, 5, is greater than permitted\n",
      "[18:32:08] ERROR: Could not sanitize molecule ending on line 25\n",
      "[18:32:08] ERROR: Explicit valence for atom # 2 C, 5, is greater than permitted\n",
      "[18:32:08] Explicit valence for atom # 6 N, 4, is greater than permitted\n",
      "[18:32:08] ERROR: Could not sanitize molecule ending on line 27\n",
      "[18:32:08] ERROR: Explicit valence for atom # 6 N, 4, is greater than permitted\n",
      " 46%|███████████████████████████████████▌                                          | 456/1000 [00:04<00:04, 114.37it/s][18:32:08] Explicit valence for atom # 1 C, 5, is greater than permitted\n",
      "[18:32:08] ERROR: Could not sanitize molecule ending on line 17\n",
      "[18:32:08] ERROR: Explicit valence for atom # 1 C, 5, is greater than permitted\n",
      " 48%|█████████████████████████████████████▍                                        | 480/1000 [00:04<00:04, 108.55it/s][18:32:08] Explicit valence for atom # 0 C, 5, is greater than permitted\n",
      "[18:32:08] ERROR: Could not sanitize molecule ending on line 29\n",
      "[18:32:08] ERROR: Explicit valence for atom # 0 C, 5, is greater than permitted\n",
      "[18:32:08] Explicit valence for atom # 1 C, 5, is greater than permitted\n",
      "[18:32:08] ERROR: Could not sanitize molecule ending on line 17\n",
      "[18:32:08] ERROR: Explicit valence for atom # 1 C, 5, is greater than permitted\n",
      " 50%|███████████████████████████████████████▎                                      | 504/1000 [00:04<00:04, 112.47it/s][18:32:08] Explicit valence for atom # 1 C, 5, is greater than permitted\n",
      "[18:32:08] ERROR: Could not sanitize molecule ending on line 29\n",
      "[18:32:08] ERROR: Explicit valence for atom # 1 C, 5, is greater than permitted\n",
      " 52%|████████████████████████████████████████▏                                     | 516/1000 [00:04<00:04, 110.57it/s][18:32:08] Explicit valence for atom # 0 C, 5, is greater than permitted\n",
      "[18:32:08] ERROR: Could not sanitize molecule ending on line 23\n",
      "[18:32:08] ERROR: Explicit valence for atom # 0 C, 5, is greater than permitted\n",
      " 53%|█████████████████████████████████████████▎                                    | 529/1000 [00:04<00:04, 112.64it/s][18:32:09] Explicit valence for atom # 1 C, 5, is greater than permitted\n",
      "[18:32:09] ERROR: Could not sanitize molecule ending on line 32\n",
      "[18:32:09] ERROR: Explicit valence for atom # 1 C, 5, is greater than permitted\n",
      "[18:32:09] Explicit valence for atom # 0 N, 4, is greater than permitted\n",
      "[18:32:09] ERROR: Could not sanitize molecule ending on line 26\n",
      "[18:32:09] ERROR: Explicit valence for atom # 0 N, 4, is greater than permitted\n",
      " 54%|██████████████████████████████████████████▍                                   | 544/1000 [00:04<00:03, 120.40it/s][18:32:09] Explicit valence for atom # 16 N, 4, is greater than permitted\n",
      "[18:32:09] ERROR: Could not sanitize molecule ending on line 48\n",
      "[18:32:09] ERROR: Explicit valence for atom # 16 N, 4, is greater than permitted\n",
      "[18:32:09] Explicit valence for atom # 3 N, 4, is greater than permitted\n",
      "[18:32:09] ERROR: Could not sanitize molecule ending on line 42\n",
      "[18:32:09] ERROR: Explicit valence for atom # 3 N, 4, is greater than permitted\n",
      " 57%|████████████████████████████████████████████▍                                 | 569/1000 [00:05<00:03, 115.53it/s][18:32:09] Explicit valence for atom # 1 C, 5, is greater than permitted\n",
      "[18:32:09] ERROR: Could not sanitize molecule ending on line 27\n",
      "[18:32:09] ERROR: Explicit valence for atom # 1 C, 5, is greater than permitted\n",
      " 67%|████████████████████████████████████████████████████▍                         | 672/1000 [00:06<00:03, 105.00it/s][18:32:10] Explicit valence for atom # 0 C, 5, is greater than permitted\n",
      "[18:32:10] ERROR: Could not sanitize molecule ending on line 36\n",
      "[18:32:10] ERROR: Explicit valence for atom # 0 C, 5, is greater than permitted\n",
      "[18:32:10] Explicit valence for atom # 0 C, 5, is greater than permitted\n",
      "[18:32:10] ERROR: Could not sanitize molecule ending on line 42\n",
      "[18:32:10] ERROR: Explicit valence for atom # 0 C, 5, is greater than permitted\n",
      " 68%|█████████████████████████████████████████████████████▎                        | 683/1000 [00:06<00:03, 104.35it/s][18:32:10] Explicit valence for atom # 0 C, 5, is greater than permitted\n",
      "[18:32:10] ERROR: Could not sanitize molecule ending on line 32\n",
      "[18:32:10] ERROR: Explicit valence for atom # 0 C, 5, is greater than permitted\n",
      " 72%|███████████████████████████████████████████████████████▉                      | 717/1000 [00:06<00:02, 106.43it/s][18:32:10] Explicit valence for atom # 1 C, 5, is greater than permitted\n",
      "[18:32:10] ERROR: Could not sanitize molecule ending on line 33\n",
      "[18:32:10] ERROR: Explicit valence for atom # 1 C, 5, is greater than permitted\n",
      " 73%|████████████████████████████████████████████████████████▊                     | 728/1000 [00:06<00:02, 107.27it/s][18:32:10] Explicit valence for atom # 10 N, 4, is greater than permitted\n",
      "[18:32:10] ERROR: Could not sanitize molecule ending on line 44\n",
      "[18:32:10] ERROR: Explicit valence for atom # 10 N, 4, is greater than permitted\n",
      " 75%|██████████████████████████████████████████████████████████▌                   | 751/1000 [00:06<00:02, 109.61it/s][18:32:11] Explicit valence for atom # 1 C, 5, is greater than permitted\n",
      "[18:32:11] ERROR: Could not sanitize molecule ending on line 33\n",
      "[18:32:11] ERROR: Explicit valence for atom # 1 C, 5, is greater than permitted\n",
      "[18:32:11] Explicit valence for atom # 0 C, 5, is greater than permitted\n",
      "[18:32:11] ERROR: Could not sanitize molecule ending on line 25\n",
      "[18:32:11] ERROR: Explicit valence for atom # 0 C, 5, is greater than permitted\n",
      " 78%|████████████████████████████████████████████████████████████▊                 | 779/1000 [00:06<00:01, 112.44it/s][18:32:11] Explicit valence for atom # 3 C, 5, is greater than permitted\n",
      "[18:32:11] ERROR: Could not sanitize molecule ending on line 21\n",
      "[18:32:11] ERROR: Explicit valence for atom # 3 C, 5, is greater than permitted\n",
      " 80%|██████████████████████████████████████████████████████████████▋               | 803/1000 [00:07<00:01, 106.60it/s][18:32:11] Explicit valence for atom # 0 C, 5, is greater than permitted\n",
      "[18:32:11] ERROR: Could not sanitize molecule ending on line 25\n",
      "[18:32:11] ERROR: Explicit valence for atom # 0 C, 5, is greater than permitted\n",
      " 82%|████████████████████████████████████████████████████████████████▎             | 825/1000 [00:07<00:01, 104.86it/s][18:32:11] Explicit valence for atom # 0 C, 5, is greater than permitted\n",
      "[18:32:11] ERROR: Could not sanitize molecule ending on line 21\n",
      "[18:32:11] ERROR: Explicit valence for atom # 0 C, 5, is greater than permitted\n",
      " 87%|████████████████████████████████████████████████████████████████████▏         | 874/1000 [00:07<00:01, 116.97it/s][18:32:12] Explicit valence for atom # 2 C, 5, is greater than permitted\n",
      "[18:32:12] ERROR: Could not sanitize molecule ending on line 46\n",
      "[18:32:12] ERROR: Explicit valence for atom # 2 C, 5, is greater than permitted\n",
      " 90%|██████████████████████████████████████████████████████████████████████        | 898/1000 [00:08<00:00, 111.27it/s][18:32:12] Explicit valence for atom # 0 C, 6, is greater than permitted\n",
      "[18:32:12] ERROR: Could not sanitize molecule ending on line 21\n",
      "[18:32:12] ERROR: Explicit valence for atom # 0 C, 6, is greater than permitted\n",
      " 92%|███████████████████████████████████████████████████████████████████████▊      | 921/1000 [00:08<00:00, 105.98it/s][18:32:12] Explicit valence for atom # 1 C, 5, is greater than permitted\n",
      "[18:32:12] ERROR: Could not sanitize molecule ending on line 23\n",
      "[18:32:12] ERROR: Explicit valence for atom # 1 C, 5, is greater than permitted\n",
      " 93%|████████████████████████████████████████████████████████████████████████▊     | 933/1000 [00:08<00:00, 108.15it/s][18:32:12] Explicit valence for atom # 3 C, 5, is greater than permitted\n",
      "[18:32:12] ERROR: Could not sanitize molecule ending on line 33\n",
      "[18:32:12] ERROR: Explicit valence for atom # 3 C, 5, is greater than permitted\n",
      " 94%|█████████████████████████████████████████████████████████████████████████▋    | 945/1000 [00:08<00:00, 111.24it/s][18:32:12] Explicit valence for atom # 5 C, 5, is greater than permitted\n",
      "[18:32:12] ERROR: Could not sanitize molecule ending on line 34\n",
      "[18:32:12] ERROR: Explicit valence for atom # 5 C, 5, is greater than permitted\n"
     ]
    },
    {
     "name": "stderr",
     "output_type": "stream",
     "text": [
      "[18:32:12] Explicit valence for atom # 1 C, 5, is greater than permitted\n",
      "[18:32:12] ERROR: Could not sanitize molecule ending on line 27\n",
      "[18:32:12] ERROR: Explicit valence for atom # 1 C, 5, is greater than permitted\n",
      " 96%|██████████████████████████████████████████████████████████████████████████▋   | 957/1000 [00:08<00:00, 112.95it/s][18:32:13] Explicit valence for atom # 1 C, 5, is greater than permitted\n",
      "[18:32:13] ERROR: Could not sanitize molecule ending on line 19\n",
      "[18:32:13] ERROR: Explicit valence for atom # 1 C, 5, is greater than permitted\n",
      " 97%|███████████████████████████████████████████████████████████████████████████▋  | 970/1000 [00:08<00:00, 114.53it/s][18:32:13] Explicit valence for atom # 5 N, 4, is greater than permitted\n",
      "[18:32:13] ERROR: Could not sanitize molecule ending on line 34\n",
      "[18:32:13] ERROR: Explicit valence for atom # 5 N, 4, is greater than permitted\n",
      " 99%|█████████████████████████████████████████████████████████████████████████████▌| 994/1000 [00:08<00:00, 110.84it/s][18:32:13] Explicit valence for atom # 0 N, 4, is greater than permitted\n",
      "[18:32:13] ERROR: Could not sanitize molecule ending on line 39\n",
      "[18:32:13] ERROR: Explicit valence for atom # 0 N, 4, is greater than permitted\n",
      "100%|█████████████████████████████████████████████████████████████████████████████| 1000/1000 [00:09<00:00, 110.98it/s]"
     ]
    },
    {
     "name": "stdout",
     "output_type": "stream",
     "text": [
      "121\n"
     ]
    },
    {
     "name": "stderr",
     "output_type": "stream",
     "text": [
      "\n"
     ]
    }
   ],
   "source": [
    "qeds = []\n",
    "ns = []\n",
    "failed = 0\n",
    "\n",
    "for i in tqdm(range(1000)):\n",
    "    try:\n",
    "        mol = next(iter(Chem.SDMolSupplier('./out/'+str(i)+'.sdf')))\n",
    "        rdkit.Chem.rdDepictor.GenerateDepictionMatching3DStructure(mol, mol)\n",
    "        img, qed, sascore, logp = generate_image(mol, 'tmp')\n",
    "        # img.save(\"./out/\"+str(i)+\".png\")\n",
    "        qeds.append(qed)\n",
    "        ns.append(mol.GetNumAtoms())\n",
    "    except:\n",
    "        failed += 1\n",
    "        qeds.append(-1)\n",
    "        ns.append(0)\n",
    "\n",
    "print(failed)\n",
    "qeds = np.array(qeds)\n",
    "ns = np.array(ns)"
   ]
  },
  {
   "cell_type": "code",
   "execution_count": 16,
   "id": "6c7ed8f1",
   "metadata": {},
   "outputs": [],
   "source": [
    "with open('model_affinities.obj', 'rb') as f: dat = pickle.load(f)\n",
    "model_max_affinities = np.array(dat['model_max_affinities'])"
   ]
  },
  {
   "cell_type": "code",
   "execution_count": 26,
   "id": "7a0bb0b5",
   "metadata": {},
   "outputs": [
    {
     "data": {
      "image/png": "[encoded data removed]",
      "text/plain": [
       "<Figure size 432x288 with 1 Axes>"
      ]
     },
     "metadata": {
      "needs_background": "light"
     },
     "output_type": "display_data"
    }
   ],
   "source": [
    "sns.kdeplot(data=affs[affs<4], label=\"Dataset\")\n",
    "sns.kdeplot(data = model_max_affinities[(ns>=7)*(qeds!=-1)], label = \"Model\")\n",
    "plt.xlabel(\"Vina Score - Affinity ( kcal/mol )\")\n",
    "plt.grid()\n",
    "plt.legend()\n",
    "plt.show()"
   ]
  }
 ],
 "metadata": {
  "kernelspec": {
   "display_name": "Python 3 (ipykernel)",
   "language": "python",
   "name": "python3"
  },
  "language_info": {
   "codemirror_mode": {
    "name": "ipython",
    "version": 3
   },
   "file_extension": ".py",
   "mimetype": "text/x-python",
   "name": "python",
   "nbconvert_exporter": "python",
   "pygments_lexer": "ipython3",
   "version": "3.9.7"
  }
 },
 "nbformat": 4,
 "nbformat_minor": 5
}
